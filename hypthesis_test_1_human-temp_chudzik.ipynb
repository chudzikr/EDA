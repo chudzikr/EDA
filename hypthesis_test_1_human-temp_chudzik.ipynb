{
 "cells": [
  {
   "cell_type": "markdown",
   "metadata": {},
   "source": [
    "# What is the True Normal Human Body Temperature? \n",
    "\n",
    "#### Background\n",
    "\n",
    "The mean normal body temperature was held to be 37$^{\\circ}$C or 98.6$^{\\circ}$F for more than 120 years since it was first conceptualized and reported by Carl Wunderlich in a famous 1868 book. But, is this value statistically correct?"
   ]
  },
  {
   "cell_type": "markdown",
   "metadata": {},
   "source": [
    "<h3>Exercises</h3>\n",
    "\n",
    "<p>In this exercise, you will analyze a dataset of human body temperatures and employ the concepts of hypothesis testing, confidence intervals, and statistical significance.</p>\n",
    "\n",
    "<p>Answer the following questions <b>in this notebook below and submit to your Github account</b>.</p> \n",
    "\n",
    "<ol>\n",
    "<li>  Is the distribution of body temperatures normal? \n",
    "    <ul>\n",
    "    <li> Although this is not a requirement for the Central Limit Theorem to hold (read the introduction on Wikipedia's page about the CLT carefully: https://en.wikipedia.org/wiki/Central_limit_theorem), it gives us some peace of mind that the population may also be normally distributed if we assume that this sample is representative of the population.\n",
    "    <li> Think about the way you're going to check for the normality of the distribution. Graphical methods are usually used first, but there are also other ways: https://en.wikipedia.org/wiki/Normality_test\n",
    "    </ul>\n",
    "<li>  Is the sample size large? Are the observations independent?\n",
    "    <ul>\n",
    "    <li> Remember that this is a condition for the Central Limit Theorem, and hence the statistical tests we are using, to apply.\n",
    "    </ul>\n",
    "<li>  Is the true population mean really 98.6 degrees F?\n",
    "    <ul>\n",
    "    <li> First, try a bootstrap hypothesis test.\n",
    "    <li> Now, let's try frequentist statistical testing. Would you use a one-sample or two-sample test? Why?\n",
    "    <li> In this situation, is it appropriate to use the $t$ or $z$ statistic? \n",
    "    <li> Now try using the other test. How is the result be different? Why?\n",
    "    </ul>\n",
    "<li>  Draw a small sample of size 10 from the data and repeat both frequentist tests. \n",
    "    <ul>\n",
    "    <li> Which one is the correct one to use? \n",
    "    <li> What do you notice? What does this tell you about the difference in application of the $t$ and $z$ statistic?\n",
    "    </ul>\n",
    "<li>  At what temperature should we consider someone's temperature to be \"abnormal\"?\n",
    "    <ul>\n",
    "    <li> As in the previous example, try calculating everything using the boostrap approach, as well as the frequentist approach.\n",
    "    <li> Start by computing the margin of error and confidence interval. When calculating the confidence interval, keep in mind that you should use the appropriate formula for one draw, and not N draws.\n",
    "    </ul>\n",
    "<li>  Is there a significant difference between males and females in normal temperature?\n",
    "    <ul>\n",
    "    <li> What testing approach did you use and why?\n",
    "    <li> Write a story with your conclusion in the context of the original problem.\n",
    "    </ul>\n",
    "</ol>\n",
    "\n",
    "You can include written notes in notebook cells using Markdown: \n",
    "   - In the control panel at the top, choose Cell > Cell Type > Markdown\n",
    "   - Markdown syntax: http://nestacms.com/docs/creating-content/markdown-cheat-sheet\n",
    "\n",
    "#### Resources\n",
    "\n",
    "+ Information and data sources: http://www.amstat.org/publications/jse/datasets/normtemp.txt, http://www.amstat.org/publications/jse/jse_data_archive.htm\n",
    "+ Markdown syntax: http://nestacms.com/docs/creating-content/markdown-cheat-sheet\n",
    "\n",
    "****"
   ]
  },
  {
   "cell_type": "code",
   "execution_count": 2,
   "metadata": {},
   "outputs": [],
   "source": [
    "import warnings\n",
    "warnings.simplefilter(action='ignore', category=FutureWarning)\n",
    "\n",
    "import pandas as pd\n",
    "import numpy as np\n",
    "import matplotlib.pyplot as plt\n",
    "import seaborn as sns\n",
    "\n",
    "df = pd.read_csv('data/human_body_temperature.csv')\n",
    "pop_mean = 98.6 "
   ]
  },
  {
   "cell_type": "markdown",
   "metadata": {},
   "source": [
    "## Is the distribution of body temperatures normal?"
   ]
  },
  {
   "cell_type": "code",
   "execution_count": 3,
   "metadata": {},
   "outputs": [
    {
     "data": {
      "text/html": [
       "<div>\n",
       "<style scoped>\n",
       "    .dataframe tbody tr th:only-of-type {\n",
       "        vertical-align: middle;\n",
       "    }\n",
       "\n",
       "    .dataframe tbody tr th {\n",
       "        vertical-align: top;\n",
       "    }\n",
       "\n",
       "    .dataframe thead th {\n",
       "        text-align: right;\n",
       "    }\n",
       "</style>\n",
       "<table border=\"1\" class=\"dataframe\">\n",
       "  <thead>\n",
       "    <tr style=\"text-align: right;\">\n",
       "      <th></th>\n",
       "      <th>temperature</th>\n",
       "      <th>gender</th>\n",
       "      <th>heart_rate</th>\n",
       "    </tr>\n",
       "  </thead>\n",
       "  <tbody>\n",
       "    <tr>\n",
       "      <th>0</th>\n",
       "      <td>99.3</td>\n",
       "      <td>F</td>\n",
       "      <td>68.0</td>\n",
       "    </tr>\n",
       "    <tr>\n",
       "      <th>1</th>\n",
       "      <td>98.4</td>\n",
       "      <td>F</td>\n",
       "      <td>81.0</td>\n",
       "    </tr>\n",
       "    <tr>\n",
       "      <th>2</th>\n",
       "      <td>97.8</td>\n",
       "      <td>M</td>\n",
       "      <td>73.0</td>\n",
       "    </tr>\n",
       "    <tr>\n",
       "      <th>3</th>\n",
       "      <td>99.2</td>\n",
       "      <td>F</td>\n",
       "      <td>66.0</td>\n",
       "    </tr>\n",
       "    <tr>\n",
       "      <th>4</th>\n",
       "      <td>98.0</td>\n",
       "      <td>F</td>\n",
       "      <td>73.0</td>\n",
       "    </tr>\n",
       "  </tbody>\n",
       "</table>\n",
       "</div>"
      ],
      "text/plain": [
       "   temperature gender  heart_rate\n",
       "0         99.3      F        68.0\n",
       "1         98.4      F        81.0\n",
       "2         97.8      M        73.0\n",
       "3         99.2      F        66.0\n",
       "4         98.0      F        73.0"
      ]
     },
     "execution_count": 3,
     "metadata": {},
     "output_type": "execute_result"
    }
   ],
   "source": [
    "# Examine head of dataframe\n",
    "df.head()"
   ]
  },
  {
   "cell_type": "code",
   "execution_count": 6,
   "metadata": {},
   "outputs": [
    {
     "data": {
      "image/png": "[encoded data removed]",
      "text/plain": [
       "<Figure size 432x288 with 1 Axes>"
      ]
     },
     "metadata": {
      "needs_background": "light"
     },
     "output_type": "display_data"
    }
   ],
   "source": [
    "# Use a histogram to visualize the data distribution\n",
    "_ = plt.hist(df['temperature'], bins=25)\n",
    "_ = plt.xlabel('temperature (F)')\n",
    "_ = plt.ylabel('count')\n",
    "_ = plt.title('Distribution of Body Temperatures')\n",
    "plt.show()"
   ]
  },
  {
   "cell_type": "markdown",
   "metadata": {},
   "source": [
    "The distribution of the body temperatures does not appear to be normally distributed. Next, compare to Normal PDF and normal curve using ECDF and KDE Plots."
   ]
  },
  {
   "cell_type": "markdown",
   "metadata": {},
   "source": [
    "### Compare to a Normal PDF and Normal Curve"
   ]
  },
  {
   "cell_type": "code",
   "execution_count": 7,
   "metadata": {},
   "outputs": [],
   "source": [
    "# Function to calculate ECDF\n",
    "def ecdf(data):\n",
    "    \"\"\"Compute ECDF for a one-dimensional array of measurements.\"\"\"\n",
    "    # Number of data points: n\n",
    "    n = len(data)\n",
    "\n",
    "    # x-data for the ECDF: x\n",
    "    x = np.sort(data)\n",
    "\n",
    "    # y-data for the ECDF: y\n",
    "    # np.arange(1, len(x)+1) / len(x)\n",
    "    y = np.arange(1, n+1) / n\n",
    "\n",
    "    return x, y"
   ]
  },
  {
   "cell_type": "code",
   "execution_count": 8,
   "metadata": {},
   "outputs": [
    {
     "data": {
      "image/png": "[encoded data removed]",
      "text/plain": [
       "<Figure size 432x288 with 1 Axes>"
      ]
     },
     "metadata": {},
     "output_type": "display_data"
    }
   ],
   "source": [
    "# Create a one-dimensional NumPy array of temperatures\n",
    "bodytemp = df['temperature']\n",
    "\n",
    "mean = np.mean(bodytemp)\n",
    "std = np.std(bodytemp)\n",
    "samples = np.random.normal(mean, std, size=10000)\n",
    "x, y = ecdf(bodytemp) #ecdf function\n",
    "x_theor, y_theor = ecdf(samples) \n",
    "\n",
    "# Plot both distributions\n",
    "sns.set()\n",
    "_ = plt.plot(x_theor, y_theor)\n",
    "_ = plt.plot(x, y, marker='.', linestyle='none')\n",
    "_ = plt.title('Cumulative Distribution Function - Human Body Temperatures')\n",
    "_ = plt.xlabel('Body Temp (Degrees F)')\n",
    "_ = plt.ylabel('CDF')\n",
    "margins = 0.02\n",
    "\n",
    "plt.show()"
   ]
  },
  {
   "cell_type": "code",
   "execution_count": 9,
   "metadata": {},
   "outputs": [
    {
     "data": {
      "image/png": "[encoded data removed]",
      "text/plain": [
       "<Figure size 432x288 with 1 Axes>"
      ]
     },
     "metadata": {},
     "output_type": "display_data"
    }
   ],
   "source": [
    "# Use sns.kdeplot to compare the curves\n",
    "sns.kdeplot(bodytemp, color='red', label='Body Temp', shade=True)\n",
    "sns.kdeplot(x_theor, color='green', label='Normal Dist', shade=True)\n",
    "plt.legend()\n",
    "plt.show()"
   ]
  },
  {
   "cell_type": "markdown",
   "metadata": {},
   "source": [
    "Using the computed mean and std dev to check against the theoretical distribution using both the ECDF and the normal distribution curve tell us that the distribution of the the body temperatures is indeed normal (although there may be some question as to whether the tail is \"light tailed\").  The histogram also shows that the sample's distribution is unimodal and essentially symmetrical around the mean. "
   ]
  },
  {
   "cell_type": "markdown",
   "metadata": {},
   "source": [
    "## Is the sample size large? Are the observations independent?\n",
    "At a sample size of 130, the sample is large, as many references to the CLT list n=30 as \"sufficiently large\".\n",
    "\n",
    "The observations are independent, as one sample has no effect on the the other."
   ]
  },
  {
   "cell_type": "code",
   "execution_count": 12,
   "metadata": {},
   "outputs": [
    {
     "name": "stdout",
     "output_type": "stream",
     "text": [
      "sample population =  130\n",
      "sample mean =  98.24923076923078\n",
      "sample std dev =  0.7331831580389454\n"
     ]
    }
   ],
   "source": [
    "# Get descriptive statistics about the dataframe\n",
    "desc = df.describe()\n",
    "type(desc)\n",
    "samp_cnt = int(desc['temperature'][0])\n",
    "samp_mean = desc['temperature'][1]\n",
    "samp_std = desc['temperature'][2]\n",
    "pop_mean = 98.6\n",
    "print('sample population = ', int(samp_cnt))\n",
    "print('sample mean = ', samp_mean)\n",
    "print('sample std dev = ', samp_std)"
   ]
  },
  {
   "cell_type": "markdown",
   "metadata": {},
   "source": [
    "## Is the true population mean really 98.6 degrees F?\n",
    "### Bootstrap hypothesis test\n",
    "H0: The mean body temperature in the sample is the true population mean (H0: mean = 98.6).  \n",
    "H1: The mean body temperature in the sample is not true population mean (H1: mean != 98.6)."
   ]
  },
  {
   "cell_type": "code",
   "execution_count": 28,
   "metadata": {},
   "outputs": [],
   "source": [
    "# Define Functions\n",
    "def diff_from_pop_mean(data, pop_mean = 98.6):\n",
    "    return np.mean(data) - pop_mean"
   ]
  },
  {
   "cell_type": "code",
   "execution_count": 20,
   "metadata": {},
   "outputs": [
    {
     "name": "stdout",
     "output_type": "stream",
     "text": [
      "p-value:  0.0\n",
      "Mean:  98.24962723076924\n"
     ]
    }
   ],
   "source": [
    "# manual bootstrap hypothesis test with 10,000 samples\n",
    "bs_replicates = np.empty(10000)\n",
    "\n",
    "size = len(bs_replicates)\n",
    "\n",
    "for i in range(size):\n",
    "    bs_sample = np.random.choice(bodytemp, len(bodytemp))\n",
    "    bs_replicates[i] = np.mean(bs_sample)\n",
    "    \n",
    "p_value = np.sum(bs_replicates >= 98.6) / size\n",
    "\n",
    "print('p-value: ',p_value)\n",
    "print('Mean: ',np.mean(bs_replicates))"
   ]
  },
  {
   "cell_type": "markdown",
   "metadata": {},
   "source": [
    "## Bootstrap hypothesis test results\n",
    "Using 10,000 bootstrap replicates, the bootstrap hypothesis test has a p-value of 0.0, so we can reject the null hypothesis and conclude that the mean body temperature of the sample set is 98.25, which is not the same as the population mean, 98.6."
   ]
  },
  {
   "cell_type": "markdown",
   "metadata": {},
   "source": [
    "### Frequentist testing\n",
    "When conducting frequentist hypothesis testing, we will use a **one-sample hypothesis test**, as we only have one data set, and we're comparing it to a single number (the population mean)\n",
    "\n",
    "In this situation, it would be appropriate to use a **t-statistic**, as the standard deviation of the population is not known."
   ]
  },
  {
   "cell_type": "markdown",
   "metadata": {},
   "source": [
    "### t-test"
   ]
  },
  {
   "cell_type": "code",
   "execution_count": 27,
   "metadata": {},
   "outputs": [
    {
     "name": "stdout",
     "output_type": "stream",
     "text": [
      "t statistic =  -5.45482\n",
      "p value =  0.0\n"
     ]
    }
   ],
   "source": [
    "### Perform a t-test\n",
    "# H0: There is no difference between the sample mean and the population mean\n",
    "# H1: There is a difference between the sample mean and the population mean\n",
    "\n",
    "from scipy import stats\n",
    "\n",
    "#pop_mean = 98.6\n",
    "\n",
    "# Conduct a one-sample t-test\n",
    "result = stats.ttest_1samp(bodytemp, pop_mean)\n",
    "\n",
    "print(\"t statistic = \", round(result.statistic,5))\n",
    "print(\"p value = \", round(result.pvalue, 3))"
   ]
  },
  {
   "cell_type": "markdown",
   "metadata": {
    "collapsed": true
   },
   "source": [
    "The p-value is 0.0, so we can reject the null hypothesis and say that there is a difference between the sample mean and the population mean.\n",
    "\n",
    "### z-test\n",
    "Now try using the the z-test. How is the result be different? Why?"
   ]
  },
  {
   "cell_type": "code",
   "execution_count": 30,
   "metadata": {},
   "outputs": [
    {
     "name": "stdout",
     "output_type": "stream",
     "text": [
      "p-value is:  0.0\n",
      "z-statistic is  -5.45482\n"
     ]
    }
   ],
   "source": [
    "# Demonstrating significant differences between a\n",
    "# vector of measurements and a single value\n",
    "# Using the statsmodels package for doing test\n",
    "# Using numpy to generate some fake data\n",
    "\n",
    "from statsmodels.stats import weightstats as stests\n",
    "\n",
    "# Assuming data are normally distributed, we can do z-test\n",
    "testResult=stests.ztest(bodytemp,value=pop_mean)\n",
    "pValue=testResult[1]\n",
    "zStat=testResult[0] \n",
    "print(\"p-value is: \", round(pValue,4))\n",
    "print(\"z-statistic is \", round(zStat, 5))"
   ]
  },
  {
   "cell_type": "markdown",
   "metadata": {},
   "source": [
    "For the z-test, the test statistics are the same, but the p-value (0.000000049021570141012155) is the slightly different than the t-test.  However, when rounded, they are essentially the same - 0.00.\n",
    "\n",
    "For sample sizes over 30, we will get the same result between the z-test and t-test."
   ]
  },
  {
   "cell_type": "markdown",
   "metadata": {},
   "source": [
    "## Repeat z- and t-tests\n",
    "Draw a small sample of size 10 from the data and repeat both frequentist tests.\n",
    "Which one is the correct one to use?\n",
    "What do you notice? What does this tell you about the difference in application of the  𝑡  and  𝑧  statistic?"
   ]
  },
  {
   "cell_type": "code",
   "execution_count": 35,
   "metadata": {},
   "outputs": [],
   "source": [
    "# take a random sample of 10 from the bodytemp\n",
    "#np.random.seed(6)\n",
    "sample = np.random.choice(a=bodytemp, size=10)"
   ]
  },
  {
   "cell_type": "markdown",
   "metadata": {},
   "source": [
    "## t-test"
   ]
  },
  {
   "cell_type": "code",
   "execution_count": 36,
   "metadata": {},
   "outputs": [
    {
     "name": "stdout",
     "output_type": "stream",
     "text": [
      "t statistic =  -1.47965\n",
      "p value =  0.173\n"
     ]
    }
   ],
   "source": [
    "### Perform a t-test\n",
    "# H0: There is no difference between the sample mean and the population mean\n",
    "# H1: There is a difference between the sample mean and the population mean\n",
    "#pop_mean = 98.6\n",
    "\n",
    "# Conduct a one-sample t-test\n",
    "tStat = stats.ttest_1samp(sample, pop_mean)\n",
    "\n",
    "print(\"t statistic = \", round(tStat.statistic,5))\n",
    "print(\"p value = \", round(tStat.pvalue, 3))\n"
   ]
  },
  {
   "cell_type": "code",
   "execution_count": 39,
   "metadata": {},
   "outputs": [
    {
     "name": "stdout",
     "output_type": "stream",
     "text": [
      "p-value is:  0.139\n",
      "z-statistic is  -1.47965\n"
     ]
    }
   ],
   "source": [
    "# Perform a z-test\n",
    "testResult=stests.ztest(sample,value=pop_mean)\n",
    "zStatistic=testResult[0] \n",
    "pVal=testResult[1]\n",
    "print(\"p-value is: \", round(pVal,4))\n",
    "print(\"z-statistic is \", round(zStatistic, 5))"
   ]
  },
  {
   "cell_type": "markdown",
   "metadata": {},
   "source": [
    "With a sample of 10 and an unknown population standard deviation, the appropriate test to use for a sample this size is a t-test.\n",
    "\n",
    "However, both tests have the same test statistic (-1.47965), and both have a p-value > .05, so we cannot reject the null hypothesis. These results tell me that there is little difference between the t-test and z-test in conditions such as these."
   ]
  },
  {
   "cell_type": "markdown",
   "metadata": {},
   "source": [
    "### Confidence Intervals\n",
    "\n",
    "**At what temperature should we consider someone's temperature to be \"abnormal\"?**\n",
    "\n",
    "As in the previous example, try calculating everything using the boostrap approach, as well as the frequentist approach.  \n",
    "\n",
    "Start by computing the margin of error and confidence interval. When calculating the confidence interval, keep in mind that you should use the appropriate formula for one draw, and not N draws."
   ]
  },
  {
   "cell_type": "markdown",
   "metadata": {},
   "source": [
    "## Frequentist Approach\n",
    "Calculate the confidence intervals using the frequentist approach."
   ]
  },
  {
   "cell_type": "code",
   "execution_count": 53,
   "metadata": {},
   "outputs": [
    {
     "name": "stdout",
     "output_type": "stream",
     "text": [
      "95% confidence interval: ( 96.812 , 99.686 )\n",
      "Margin of error: +/- 1.437\n"
     ]
    }
   ],
   "source": [
    "#Calculate the confidence intervals using the frequentist approach\n",
    "ci_lo, ci_hi = stats.norm.interval(0.95, loc=samp_mean, scale=samp_std)\n",
    "print('95% confidence interval: (',round(ci_lo, 3),',',round(ci_hi, 3),')')\n",
    "print('Margin of error: +/-',round((ci_hi - samp_mean),3))"
   ]
  },
  {
   "cell_type": "markdown",
   "metadata": {},
   "source": [
    "## Using Bootstrap Approach\n",
    "Calculate the confidence intervals using the bootstrap approach"
   ]
  },
  {
   "cell_type": "code",
   "execution_count": 49,
   "metadata": {},
   "outputs": [
    {
     "name": "stdout",
     "output_type": "stream",
     "text": [
      "p-value:  0.0\n",
      "95% confidence interval ( 96.818 , 99.681 )\n",
      "margin of error: +/- 1.43147\n"
     ]
    }
   ],
   "source": [
    "# Calculates p value using 10,000 boostrap replicates\n",
    "bootstrap_replicates = np.empty(10000)\n",
    "\n",
    "size = len(bootstrap_replicates)\n",
    "\n",
    "for i in range(size):\n",
    "    bootstrap_sample = np.random.choice(bodytemp, size=len(bodytemp))\n",
    "    bootstrap_replicates[i] = np.mean(bootstrap_sample)\n",
    "\n",
    "p = np.sum(bootstrap_replicates >= 98.6) / len(bootstrap_replicates)\n",
    "print('p-value: ', p)\n",
    "\n",
    "x_bar = np.mean(bootstrap_replicates)\n",
    "ci = stats.norm.interval(0.95, loc=mean, scale=std)\n",
    "\n",
    "print('95% confidence interval (',round(ci[0],3), ',', round(ci[1],3), ')')\n",
    "print('margin of error: +/-',round((ci[1] - mean),5))"
   ]
  },
  {
   "cell_type": "markdown",
   "metadata": {},
   "source": [
    "## Bootstrap and frequentist confidence intervals\n",
    "According to both the bootstrap and frequentist approaches, using the mean we calculated (98.249), and at a 95% confidence interval, a temperature below 96.818° or above 99.681° would be considered abnormal."
   ]
  },
  {
   "cell_type": "markdown",
   "metadata": {},
   "source": [
    "## Gender Differences\n",
    "Is there a significant difference between males and females in normal temperature?  \n",
    "\n",
    "What testing approach did you use and why?  \n",
    "\n",
    "Write a story with your conclusion in the context of the original problem."
   ]
  },
  {
   "cell_type": "markdown",
   "metadata": {},
   "source": [
    "### Hypothesis\n",
    "H0: There is no difference in the mean temperature of males and females.  \n",
    "H1: There is a difference in the mean temperature of males and females.\n",
    "\n",
    "We will compare the means of male and female temperatures to determine if there is a significant difference in the means for each group."
   ]
  },
  {
   "cell_type": "code",
   "execution_count": 86,
   "metadata": {},
   "outputs": [
    {
     "name": "stdout",
     "output_type": "stream",
     "text": [
      "In the sample set, there are  65 and 65  females.\n",
      "Male temperature mean 98.105\n",
      "Male temperature standard deviation 0.693\n",
      "Female temperature mean 98.394\n",
      "Female temperature standard deviation 0.738\n"
     ]
    }
   ],
   "source": [
    "# subset males and females\n",
    "males = df[df.gender == 'M']\n",
    "females = df[df.gender == 'F']\n",
    "\n",
    "male_temp = males.temperature\n",
    "female_temp = females.temperature\n",
    "male_temp_mean = np.mean(male_temp)\n",
    "female_temp_mean = np.mean(female_temp)\n",
    "male_temp_std = np.std(male_temp)\n",
    "female_temp_std = np.std(female_temp)\n",
    "\n",
    "print('In the sample set, there are ', len(males),'and', len(females),' females.')\n",
    "#print('\\n')\n",
    "print('Male temperature mean', round(male_temp_mean,3))\n",
    "print('Male temperature standard deviation', round(male_temp_std,3))\n",
    "print('Female temperature mean', round(female_temp_mean,3))\n",
    "print('Female temperature standard deviation',round(female_temp_std,3))"
   ]
  },
  {
   "cell_type": "markdown",
   "metadata": {},
   "source": [
    "### Plot boxplots to visualize male and female temperature distributions"
   ]
  },
  {
   "cell_type": "code",
   "execution_count": 59,
   "metadata": {},
   "outputs": [
    {
     "data": {
      "image/png": "[encoded data removed]",
      "text/plain": [
       "<Figure size 864x576 with 1 Axes>"
      ]
     },
     "metadata": {},
     "output_type": "display_data"
    }
   ],
   "source": [
    "# plot a boxplot for an overview\n",
    "sns.boxplot(x = 'gender', y = 'temperature', data=df)\n",
    "\n",
    "sns.set(rc={\"figure.figsize\": (12, 8)})\n",
    "\n",
    "_ = plt.xlabel('Gender')\n",
    "_ = plt.ylabel('Temp')\n",
    "_ = plt.title('Fig. 6.1: Body Temp by Gender')\n",
    "\n",
    "plt.show();"
   ]
  },
  {
   "cell_type": "code",
   "execution_count": 83,
   "metadata": {},
   "outputs": [
    {
     "name": "stdout",
     "output_type": "stream",
     "text": [
      "Male variance =  0.4807479289940825\n",
      "Female variance =  0.5442698224852062\n",
      "Variances are not equal, so the Welch's t-test must be used.\n"
     ]
    }
   ],
   "source": [
    "# Will use a t-test for two independent samples (scipy.stats.mstats.ttest_ind), but first we must check the variances\n",
    "# equal_var : bool\n",
    "# If True, perform a standard independent 2 sample test that assumes equal population variances. If False, perform Welch’s t-test, which does not assume equal population variance.\n",
    "\n",
    "# Check for identical variances\n",
    "male_var = np.var(male_temp)\n",
    "female_var = np.var(female_temp)\n",
    "print('Male variance = ', male_var)\n",
    "print('Female variance = ', female_var)\n",
    "print('Variances are not equal, so the Welch\\'s t-test must be used.')"
   ]
  },
  {
   "cell_type": "code",
   "execution_count": 84,
   "metadata": {},
   "outputs": [
    {
     "name": "stdout",
     "output_type": "stream",
     "text": [
      "t-statistic:  -2.285434538165611\n",
      "p-value:  0.023938264182934196\n"
     ]
    }
   ],
   "source": [
    "# As the variances are not equal, the Welch's t-test must be used (per the SciPy documentation)\n",
    "# Use 'equal_var=False'\n",
    "welchs_t = stats.ttest_ind(male_temp, female_temp, equal_var=False)\n",
    "print('t-statistic: ',welchs_t.statistic)\n",
    "print('p-value: ',welchs_t.pvalue)"
   ]
  },
  {
   "cell_type": "code",
   "execution_count": 89,
   "metadata": {},
   "outputs": [
    {
     "name": "stdout",
     "output_type": "stream",
     "text": [
      "Male 95% Confidence Interval (  96.74565498329211 - 99.46357578593869 )\n",
      "Female 95% Confidence Interval (  96.94788968478372 - 99.83980262290854 )\n"
     ]
    }
   ],
   "source": [
    "# Males confidence interval\n",
    "#male_temp_mean \n",
    "#male_temp_std\n",
    "male_ci_lo, male_ci_hi = stats.norm.interval(0.95, loc=male_temp_mean, scale=male_temp_std)\n",
    "print('Male 95% Confidence Interval ( ', male_ci_lo,'-' ,male_ci_hi,')')\n",
    "\n",
    "# Females confidence interval\n",
    "female_temp_std\n",
    "female_temp_mean\n",
    "female_ci_lo, female_ci_hi = stats.norm.interval(0.95, loc=female_temp_mean, scale=female_temp_std)\n",
    "print('Female 95% Confidence Interval ( ', female_ci_lo,'-' ,female_ci_hi,')')"
   ]
  },
  {
   "cell_type": "markdown",
   "metadata": {},
   "source": [
    "## Results\n",
    "A hypothesis test was conducted to determine if there is a significant difference between males and females in normal temperature.\n",
    "    <blockquote>\n",
    "    H0: There is no difference in the mean temperature of males and females.  \n",
    "    H1: There is a difference in the mean temperature of males and females.\n",
    "    </blockquote>\n",
    "\n",
    "An initial EDA visualization of boxplots for both the male and female samples indicate that the females' mean temperature is slightly higher than the males'.\n",
    "\n",
    "A t-test of two independent samples was used to test the hypothesis, but as the variances of each sample were different, the Welch's t-test was required.\n",
    "\n",
    "Because the p-value for the test statistic was < .05, we must reject the null hyptothesis that there is no difference in the mean temperature of males and females, and accept the alternative hypothesis that there is a difference in the mean temperature of males and females."
   ]
  }
 ],
 "metadata": {
  "celltoolbar": "Raw Cell Format",
  "hide_input": false,
  "kernelspec": {
   "display_name": "Python 3",
   "language": "python",
   "name": "python3"
  },
  "language_info": {
   "codemirror_mode": {
    "name": "ipython",
    "version": 3
   },
   "file_extension": ".py",
   "mimetype": "text/x-python",
   "name": "python",
   "nbconvert_exporter": "python",
   "pygments_lexer": "ipython3",
   "version": "3.6.6"
  }
 },
 "nbformat": 4,
 "nbformat_minor": 1
}
